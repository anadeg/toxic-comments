{
 "cells": [
  {
   "cell_type": "code",
   "execution_count": 1,
   "id": "3d804795",
   "metadata": {},
   "outputs": [],
   "source": [
    "import numpy as np\n",
    "import pandas as pd\n",
    "import matplotlib.pyplot as plt\n",
    "import seaborn as sns\n",
    "import re\n",
    "import string\n",
    "import tensorflow\n",
    "\n",
    "from sklearn.model_selection import train_test_split\n",
    "\n",
    "from tensorflow.keras import Sequential\n",
    "from tensorflow.keras.layers import *\n",
    "from tensorflow.keras.losses import *\n",
    "from tensorflow.keras.metrics import *\n",
    "from tensorflow.keras.optimizers import *\n",
    "\n",
    "\n",
    "pd.options.display.max_rows = 2000\n",
    "pd.options.display.max_columns = 500"
   ]
  },
  {
   "cell_type": "code",
   "execution_count": 2,
   "id": "2ff2f610",
   "metadata": {},
   "outputs": [],
   "source": [
    "data = pd.read_csv(\"comments.csv\")"
   ]
  },
  {
   "cell_type": "markdown",
   "id": "f1fecc67",
   "metadata": {},
   "source": [
    "Изучим входные данные"
   ]
  },
  {
   "cell_type": "code",
   "execution_count": 3,
   "id": "e95bdf7d",
   "metadata": {},
   "outputs": [
    {
     "data": {
      "text/html": [
       "<div>\n",
       "<style scoped>\n",
       "    .dataframe tbody tr th:only-of-type {\n",
       "        vertical-align: middle;\n",
       "    }\n",
       "\n",
       "    .dataframe tbody tr th {\n",
       "        vertical-align: top;\n",
       "    }\n",
       "\n",
       "    .dataframe thead th {\n",
       "        text-align: right;\n",
       "    }\n",
       "</style>\n",
       "<table border=\"1\" class=\"dataframe\">\n",
       "  <thead>\n",
       "    <tr style=\"text-align: right;\">\n",
       "      <th></th>\n",
       "      <th>id</th>\n",
       "      <th>comment_text</th>\n",
       "      <th>toxic</th>\n",
       "      <th>severe_toxic</th>\n",
       "      <th>obscene</th>\n",
       "      <th>threat</th>\n",
       "      <th>insult</th>\n",
       "      <th>identity_hate</th>\n",
       "    </tr>\n",
       "  </thead>\n",
       "  <tbody>\n",
       "    <tr>\n",
       "      <th>0</th>\n",
       "      <td>0000997932d777bf</td>\n",
       "      <td>Explanation\\nWhy the edits made under my usern...</td>\n",
       "      <td>0</td>\n",
       "      <td>0</td>\n",
       "      <td>0</td>\n",
       "      <td>0</td>\n",
       "      <td>0</td>\n",
       "      <td>0</td>\n",
       "    </tr>\n",
       "    <tr>\n",
       "      <th>1</th>\n",
       "      <td>000103f0d9cfb60f</td>\n",
       "      <td>D'aww! He matches this background colour I'm s...</td>\n",
       "      <td>0</td>\n",
       "      <td>0</td>\n",
       "      <td>0</td>\n",
       "      <td>0</td>\n",
       "      <td>0</td>\n",
       "      <td>0</td>\n",
       "    </tr>\n",
       "    <tr>\n",
       "      <th>2</th>\n",
       "      <td>000113f07ec002fd</td>\n",
       "      <td>Hey man, I'm really not trying to edit war. It...</td>\n",
       "      <td>0</td>\n",
       "      <td>0</td>\n",
       "      <td>0</td>\n",
       "      <td>0</td>\n",
       "      <td>0</td>\n",
       "      <td>0</td>\n",
       "    </tr>\n",
       "    <tr>\n",
       "      <th>3</th>\n",
       "      <td>0001b41b1c6bb37e</td>\n",
       "      <td>\"\\nMore\\nI can't make any real suggestions on ...</td>\n",
       "      <td>0</td>\n",
       "      <td>0</td>\n",
       "      <td>0</td>\n",
       "      <td>0</td>\n",
       "      <td>0</td>\n",
       "      <td>0</td>\n",
       "    </tr>\n",
       "    <tr>\n",
       "      <th>4</th>\n",
       "      <td>0001d958c54c6e35</td>\n",
       "      <td>You, sir, are my hero. Any chance you remember...</td>\n",
       "      <td>0</td>\n",
       "      <td>0</td>\n",
       "      <td>0</td>\n",
       "      <td>0</td>\n",
       "      <td>0</td>\n",
       "      <td>0</td>\n",
       "    </tr>\n",
       "  </tbody>\n",
       "</table>\n",
       "</div>"
      ],
      "text/plain": [
       "                 id                                       comment_text  toxic  \\\n",
       "0  0000997932d777bf  Explanation\\nWhy the edits made under my usern...      0   \n",
       "1  000103f0d9cfb60f  D'aww! He matches this background colour I'm s...      0   \n",
       "2  000113f07ec002fd  Hey man, I'm really not trying to edit war. It...      0   \n",
       "3  0001b41b1c6bb37e  \"\\nMore\\nI can't make any real suggestions on ...      0   \n",
       "4  0001d958c54c6e35  You, sir, are my hero. Any chance you remember...      0   \n",
       "\n",
       "   severe_toxic  obscene  threat  insult  identity_hate  \n",
       "0             0        0       0       0              0  \n",
       "1             0        0       0       0              0  \n",
       "2             0        0       0       0              0  \n",
       "3             0        0       0       0              0  \n",
       "4             0        0       0       0              0  "
      ]
     },
     "execution_count": 3,
     "metadata": {},
     "output_type": "execute_result"
    }
   ],
   "source": [
    "data.head()"
   ]
  },
  {
   "cell_type": "code",
   "execution_count": 4,
   "id": "69205e26",
   "metadata": {},
   "outputs": [
    {
     "name": "stdout",
     "output_type": "stream",
     "text": [
      "<class 'pandas.core.frame.DataFrame'>\n",
      "RangeIndex: 223549 entries, 0 to 223548\n",
      "Data columns (total 8 columns):\n",
      " #   Column         Non-Null Count   Dtype \n",
      "---  ------         --------------   ----- \n",
      " 0   id             223549 non-null  object\n",
      " 1   comment_text   223549 non-null  object\n",
      " 2   toxic          223549 non-null  int64 \n",
      " 3   severe_toxic   223549 non-null  int64 \n",
      " 4   obscene        223549 non-null  int64 \n",
      " 5   threat         223549 non-null  int64 \n",
      " 6   insult         223549 non-null  int64 \n",
      " 7   identity_hate  223549 non-null  int64 \n",
      "dtypes: int64(6), object(2)\n",
      "memory usage: 13.6+ MB\n"
     ]
    }
   ],
   "source": [
    "data.info()"
   ]
  },
  {
   "cell_type": "markdown",
   "id": "dbe96897",
   "metadata": {},
   "source": [
    "Посмотрим, сколько слов содержат в себе тексты"
   ]
  },
  {
   "cell_type": "code",
   "execution_count": 5,
   "id": "340a41b5",
   "metadata": {},
   "outputs": [],
   "source": [
    "data['text_len'] = data['comment_text'].apply(lambda x: len(x.split(' ')))"
   ]
  },
  {
   "cell_type": "code",
   "execution_count": 6,
   "id": "d3a31aac",
   "metadata": {},
   "outputs": [
    {
     "data": {
      "text/html": [
       "<div>\n",
       "<style scoped>\n",
       "    .dataframe tbody tr th:only-of-type {\n",
       "        vertical-align: middle;\n",
       "    }\n",
       "\n",
       "    .dataframe tbody tr th {\n",
       "        vertical-align: top;\n",
       "    }\n",
       "\n",
       "    .dataframe thead th {\n",
       "        text-align: right;\n",
       "    }\n",
       "</style>\n",
       "<table border=\"1\" class=\"dataframe\">\n",
       "  <thead>\n",
       "    <tr style=\"text-align: right;\">\n",
       "      <th></th>\n",
       "      <th>toxic</th>\n",
       "      <th>severe_toxic</th>\n",
       "      <th>obscene</th>\n",
       "      <th>threat</th>\n",
       "      <th>insult</th>\n",
       "      <th>identity_hate</th>\n",
       "      <th>text_len</th>\n",
       "    </tr>\n",
       "  </thead>\n",
       "  <tbody>\n",
       "    <tr>\n",
       "      <th>count</th>\n",
       "      <td>223549.000000</td>\n",
       "      <td>223549.000000</td>\n",
       "      <td>223549.000000</td>\n",
       "      <td>223549.000000</td>\n",
       "      <td>223549.000000</td>\n",
       "      <td>223549.000000</td>\n",
       "      <td>223549.000000</td>\n",
       "    </tr>\n",
       "    <tr>\n",
       "      <th>mean</th>\n",
       "      <td>0.095657</td>\n",
       "      <td>0.008777</td>\n",
       "      <td>0.054306</td>\n",
       "      <td>0.003082</td>\n",
       "      <td>0.050566</td>\n",
       "      <td>0.009470</td>\n",
       "      <td>68.094270</td>\n",
       "    </tr>\n",
       "    <tr>\n",
       "      <th>std</th>\n",
       "      <td>0.294121</td>\n",
       "      <td>0.093272</td>\n",
       "      <td>0.226621</td>\n",
       "      <td>0.055431</td>\n",
       "      <td>0.219110</td>\n",
       "      <td>0.096852</td>\n",
       "      <td>102.854801</td>\n",
       "    </tr>\n",
       "    <tr>\n",
       "      <th>min</th>\n",
       "      <td>0.000000</td>\n",
       "      <td>0.000000</td>\n",
       "      <td>0.000000</td>\n",
       "      <td>0.000000</td>\n",
       "      <td>0.000000</td>\n",
       "      <td>0.000000</td>\n",
       "      <td>1.000000</td>\n",
       "    </tr>\n",
       "    <tr>\n",
       "      <th>25%</th>\n",
       "      <td>0.000000</td>\n",
       "      <td>0.000000</td>\n",
       "      <td>0.000000</td>\n",
       "      <td>0.000000</td>\n",
       "      <td>0.000000</td>\n",
       "      <td>0.000000</td>\n",
       "      <td>17.000000</td>\n",
       "    </tr>\n",
       "    <tr>\n",
       "      <th>50%</th>\n",
       "      <td>0.000000</td>\n",
       "      <td>0.000000</td>\n",
       "      <td>0.000000</td>\n",
       "      <td>0.000000</td>\n",
       "      <td>0.000000</td>\n",
       "      <td>0.000000</td>\n",
       "      <td>36.000000</td>\n",
       "    </tr>\n",
       "    <tr>\n",
       "      <th>75%</th>\n",
       "      <td>0.000000</td>\n",
       "      <td>0.000000</td>\n",
       "      <td>0.000000</td>\n",
       "      <td>0.000000</td>\n",
       "      <td>0.000000</td>\n",
       "      <td>0.000000</td>\n",
       "      <td>76.000000</td>\n",
       "    </tr>\n",
       "    <tr>\n",
       "      <th>max</th>\n",
       "      <td>1.000000</td>\n",
       "      <td>1.000000</td>\n",
       "      <td>1.000000</td>\n",
       "      <td>1.000000</td>\n",
       "      <td>1.000000</td>\n",
       "      <td>1.000000</td>\n",
       "      <td>2834.000000</td>\n",
       "    </tr>\n",
       "  </tbody>\n",
       "</table>\n",
       "</div>"
      ],
      "text/plain": [
       "               toxic   severe_toxic        obscene         threat  \\\n",
       "count  223549.000000  223549.000000  223549.000000  223549.000000   \n",
       "mean        0.095657       0.008777       0.054306       0.003082   \n",
       "std         0.294121       0.093272       0.226621       0.055431   \n",
       "min         0.000000       0.000000       0.000000       0.000000   \n",
       "25%         0.000000       0.000000       0.000000       0.000000   \n",
       "50%         0.000000       0.000000       0.000000       0.000000   \n",
       "75%         0.000000       0.000000       0.000000       0.000000   \n",
       "max         1.000000       1.000000       1.000000       1.000000   \n",
       "\n",
       "              insult  identity_hate       text_len  \n",
       "count  223549.000000  223549.000000  223549.000000  \n",
       "mean        0.050566       0.009470      68.094270  \n",
       "std         0.219110       0.096852     102.854801  \n",
       "min         0.000000       0.000000       1.000000  \n",
       "25%         0.000000       0.000000      17.000000  \n",
       "50%         0.000000       0.000000      36.000000  \n",
       "75%         0.000000       0.000000      76.000000  \n",
       "max         1.000000       1.000000    2834.000000  "
      ]
     },
     "execution_count": 6,
     "metadata": {},
     "output_type": "execute_result"
    }
   ],
   "source": [
    "data.describe()"
   ]
  },
  {
   "cell_type": "markdown",
   "id": "3f19a5d4",
   "metadata": {},
   "source": [
    "Как видно, в средней тексты состоят из 68 слов, а также большая часть из них содержит менее 76 слов, но есть и тексты с 2834 словами"
   ]
  },
  {
   "cell_type": "markdown",
   "id": "0adda251",
   "metadata": {},
   "source": [
    "Посмотрим, что представляет из себя сообщение, которое имеет более 1000 слов в своем составе"
   ]
  },
  {
   "cell_type": "code",
   "execution_count": 7,
   "id": "68902820",
   "metadata": {},
   "outputs": [
    {
     "data": {
      "text/plain": [
       "array(['FAT JEW FAT JEW FAT JEW FAT JEW FAT JEW FAT JEW FAT JEW FAT JEW FAT JEW FAT JEW FAT JEW FAT JEW FAT JEW FAT JEW FAT JEW FAT JEW FAT JEW FAT JEW FAT JEW FAT JEW FAT JEW FAT JEW FAT JEW FAT JEW FAT JEW FAT JEW FAT JEW FAT JEW FAT JEW FAT JEW FAT JEW FAT JEW FAT JEW FAT JEW FAT JEW FAT JEW FAT JEW FAT JEW FAT JEW FAT JEW FAT JEW FAT JEW FAT JEW FAT JEW FAT JEW FAT JEW FAT JEW FAT JEW FAT JEW FAT JEW FAT JEW FAT JEW FAT JEW FAT JEW FAT JEW FAT JEW FAT JEW FAT JEW FAT JEW FAT JEW FAT JEW FAT JEW FAT JEW FAT JEW FAT JEW FAT JEW FAT JEW FAT JEW FAT JEW FAT JEW FAT JEW FAT JEW FAT JEW FAT JEW FAT JEW FAT JEW FAT JEW FAT JEW FAT JEW FAT JEW FAT JEW FAT JEW FAT JEW FAT JEW FAT JEW FAT JEW FAT JEW FAT JEW FAT JEW FAT JEW FAT JEW FAT JEW FAT JEW FAT JEW FAT JEW FAT JEW FAT JEW FAT JEW FAT JEW FAT JEW FAT JEW FAT JEW FAT JEW FAT JEW FAT JEW FAT JEW FAT JEW FAT JEW FAT JEW FAT JEW FAT JEW FAT JEW FAT JEW FAT JEW FAT JEW FAT JEW FAT JEW FAT JEW FAT JEW FAT JEW FAT JEW FAT JEW FAT JEW FAT JEW FAT JEW FAT JEW FAT JEW FAT JEW FAT JEW FAT JEW FAT JEW FAT JEW FAT JEW FAT JEW FAT JEW FAT JEWFAT JEW FAT JEW FAT JEW FAT JEW FAT JEW FAT JEW FAT JEW FAT JEW FAT JEW FAT JEW FAT JEW FAT JEW FAT JEW FAT JEW FAT JEW FAT JEW FAT JEW FAT JEW FAT JEW FAT JEW FAT JEW FAT JEW FAT JEW FAT JEW FAT JEW FAT JEW FAT JEW FAT JEW FAT JEW FAT JEW FAT JEW FAT JEW FAT JEW FAT JEW FAT JEW FAT JEW FAT JEW FAT JEW FAT JEW FAT JEW FAT JEW FAT JEW FAT JEW FAT JEW FAT JEW FAT JEW FAT JEW FAT JEW FAT JEW FAT JEW FAT JEW FAT JEW FAT JEW FAT JEW FAT JEW FAT JEW FAT JEW FAT JEW FAT JEW FAT JEW FAT JEW FAT JEW FAT JEW FAT JEW FAT JEW FAT JEW FAT JEW FAT JEW FAT JEW FAT JEW FAT JEW FAT JEW FAT JEW FAT JEW FAT JEW FAT JEW FAT JEW FAT JEW FAT JEW FAT JEW FAT JEW FAT JEW FAT JEW FAT JEW FAT JEW FAT JEW FAT JEW FAT JEW FAT JEW FAT JEW FAT JEW FAT JEW FAT JEW FAT JEW FAT JEW FAT JEW FAT JEW FAT JEW FAT JEW FAT JEW FAT JEW FAT JEW FAT JEW FAT JEW FAT JEW FAT JEW FAT JEW FAT JEW FAT JEW FAT JEW FAT JEW FAT JEW FAT JEW FAT JEW FAT JEW FAT JEW FAT JEW FAT JEW FAT JEW FAT JEW FAT JEW FAT JEW FAT JEW FAT JEW FAT JEW FAT JEW FAT JEW FAT JEW FAT JEW FAT JEW FAT JEW FAT JEW FAT JEW FAT JEW FAT JEW FAT JEWFAT JEW FAT JEW FAT JEW FAT JEW FAT JEW FAT JEW FAT JEW FAT JEW FAT JEW FAT JEW FAT JEW FAT JEW FAT JEW FAT JEW FAT JEW FAT JEW FAT JEW FAT JEW FAT JEW FAT JEW FAT JEW FAT JEW FAT JEW FAT JEW FAT JEW FAT JEW FAT JEW FAT JEW FAT JEW FAT JEW FAT JEW FAT JEW FAT JEW FAT JEW FAT JEW FAT JEW FAT JEW FAT JEW FAT JEW FAT JEW FAT JEW FAT JEW FAT JEW FAT JEW FAT JEW FAT JEW FAT JEW FAT JEW FAT JEW FAT JEW FAT JEW FAT JEW FAT JEW FAT JEW FAT JEW FAT JEW FAT JEW FAT JEW FAT JEW FAT JEW FAT JEW FAT JEW FAT JEW FAT JEW FAT JEW FAT JEW FAT JEW FAT JEW FAT JEW FAT JEW FAT JEW FAT JEW FAT JEW FAT JEW FAT JEW FAT JEW FAT JEW FAT JEW FAT JEW FAT JEW FAT JEW FAT JEW FAT JEW FAT JEW FAT JEW FAT JEW FAT JEW FAT JEW FAT JEW FAT JEW FAT JEW FAT JEW FAT JEW FAT JEW FAT JEW FAT JEW FAT JEW FAT JEW FAT JEW FAT JEW FAT JEW FAT JEW FAT JEW FAT JEW FAT JEW FAT JEW FAT JEW FAT JEW FAT JEW FAT JEW FAT JEW FAT JEW FAT JEW FAT JEW FAT JEW FAT JEW FAT JEW FAT JEW FAT JEW FAT JEW FAT JEW FAT JEW FAT JEW FAT JEW FAT JEW FAT JEW FAT JEW FAT JEW FAT JEW FAT JEW FAT JEW FAT JEW FAT JEW FAT JEW FAT JEW FAT JEWFAT JEW FAT JEW FAT JEW FAT JEW FAT JEW FAT JEW FAT JEW FAT JEW FAT JEW FAT JEW FAT JEW FAT JEW FAT JEW FAT JEW FAT JEW FAT JEW FAT JEW FAT JEW FAT JEW FAT JEW FAT JEW FAT JEW FAT JEW FAT JEW FAT JEW FAT JEW FAT JEW FAT JEW FAT JEW FAT JEW FAT JEW FAT JEW FAT JEW FAT JEW FAT JEW FAT JEW FAT JEW FAT JEW FAT JEW FAT JEW FAT JEW FAT JEW FAT JEW FAT JEW FAT JEW FAT JEW FAT JEW FAT JEW FAT JEW FAT JEW FAT JEW FAT JEW FAT JEW FAT JEW FAT JEW FAT JEW FAT JEW FAT JEW FAT JEW FAT JEW FAT JEW FAT JEW FAT JEW FAT JEW FAT JEW FAT JEW FAT JEW FAT JEW FAT JEW FAT JEW FAT JEW FAT JEW FAT JEW FAT JEW FAT JEW FAT JEW FAT JEW FAT JEW FAT JEW FAT JEW FAT JEW FAT JEW FAT JEW FAT JEW FAT JEW FAT JEW FAT JEW FAT JEW FAT JEW FAT JEW FAT JEW FAT JEW FAT JEW FAT JEW FAT JEW FAT JEW FAT JEW FAT JEW FAT JEW FAT JEW FAT JEW FAT JEW FAT JEW FAT JEW FAT JEW FAT JEW FAT JEW FAT JEW FAT JEW FAT JEW FAT JEW FAT JEW FAT JEW FAT JEW FAT JEW FAT JEW FAT JEW FAT JEW FAT JEW FAT JEW FAT JEW FAT JEW FAT JEW FAT JEW FAT JEW FAT JEW FAT JEW FAT JEW FAT JEW FAT JEW FAT JEW FAT JEW FAT JEW FAT JEW FAT JEW FAT JEWFAT JEW FAT JEW FAT JEW FAT JEW FAT JEW FAT JEW FAT JEW FAT JEW FAT JEW FAT JEW FAT JEW FAT JEW FAT JEW FAT JEW FAT JEW FAT JEW FAT JEW FAT JEW FAT JEW FAT JEW FAT JEW FAT JEW FAT JEW FAT JEW FAT JEW FAT JEW FAT JEW FAT JEW FAT JEW FAT JEW FAT JEW FAT JEW FAT JEW FAT JEW FAT JEW FAT JEW FAT JEW FAT JEW FAT JEW FAT JEW FAT JEW FAT JEW FAT JEW FAT JEW FAT JEW FAT JEW FAT JEW FAT JEW FAT JEW FAT JEW FAT JEW FAT JEW FAT JEW FAT JEW FAT JEW FAT JEW FAT JEW FAT JEW FAT JEW FAT JEW FAT JEW FAT JEW FAT JEW FAT JEW FAT JEW FAT JEW FAT JEW FAT JEW FAT JEW FAT JEW FAT JEW FAT JEW FAT JEW FAT JEW FAT JEW FAT JEW FAT JEW FAT JEW FAT JEW FAT JEW FAT JEW FAT'],\n",
       "      dtype=object)"
      ]
     },
     "execution_count": 7,
     "metadata": {},
     "output_type": "execute_result"
    }
   ],
   "source": [
    "data.loc[data['text_len'] > 1000, 'comment_text'].sample(1).values"
   ]
  },
  {
   "cell_type": "markdown",
   "id": "b3d856a4",
   "metadata": {},
   "source": [
    "Большинство таких коментариев содержат или повторяющие слова, или же множество побочных символов (например, иероглифы). Все лишнее мы уберем при токенизации. Также для стандартизации текста все следует перевести к одному регистру."
   ]
  },
  {
   "cell_type": "code",
   "execution_count": 8,
   "id": "f366ac96",
   "metadata": {},
   "outputs": [],
   "source": [
    "def custom_standardization(sentence):\n",
    "    # приводим в нижний регистр\n",
    "    sample = tensorflow.strings.lower(sentence)\n",
    "    # убираем не словесные знаки (к словесным относятся буквы, цифры и т.д.)\n",
    "    sample = tensorflow.strings.regex_replace(sample, '\\W', ' ')\n",
    "    # убираем цифры\n",
    "    sample = tensorflow.strings.regex_replace(sample, '\\d', ' ')\n",
    "    # убираем знаки препинания\n",
    "    return tensorflow.strings.regex_replace(sample,\n",
    "                         '[%s]'%re.escape(string.punctuation), '')"
   ]
  },
  {
   "cell_type": "markdown",
   "id": "9bdd7e68",
   "metadata": {},
   "source": [
    "Стоит также узнать, какой размерности стоит делать векторы для текста. Возьмем значение, которое покрывает достаточно большую часть коментариев."
   ]
  },
  {
   "cell_type": "code",
   "execution_count": 9,
   "id": "b33633b5",
   "metadata": {},
   "outputs": [
    {
     "data": {
      "text/plain": [
       "(array([2.15941e+05, 5.18800e+03, 2.11800e+03, 2.53000e+02, 3.70000e+01,\n",
       "        4.00000e+00, 0.00000e+00, 4.00000e+00, 2.00000e+00, 2.00000e+00]),\n",
       " array([1.0000e+00, 2.8430e+02, 5.6760e+02, 8.5090e+02, 1.1342e+03,\n",
       "        1.4175e+03, 1.7008e+03, 1.9841e+03, 2.2674e+03, 2.5507e+03,\n",
       "        2.8340e+03]),\n",
       " <BarContainer object of 10 artists>)"
      ]
     },
     "execution_count": 9,
     "metadata": {},
     "output_type": "execute_result"
    },
    {
     "data": {
      "image/png": "[encoded data removed]",
      "text/plain": [
       "<Figure size 640x480 with 1 Axes>"
      ]
     },
     "metadata": {},
     "output_type": "display_data"
    }
   ],
   "source": [
    "plt.hist(data['text_len'])"
   ]
  },
  {
   "cell_type": "code",
   "execution_count": 10,
   "id": "81cb68ba",
   "metadata": {},
   "outputs": [
    {
     "name": "stdout",
     "output_type": "stream",
     "text": [
      "213831 220488\n"
     ]
    }
   ],
   "source": [
    "count_250 = len(data.loc[data['text_len'] < 250, 'text_len'])\n",
    "count_500 = len(data.loc[data['text_len'] < 500, 'text_len'])\n",
    "\n",
    "print(count_250, count_500)"
   ]
  },
  {
   "cell_type": "markdown",
   "id": "f4d99627",
   "metadata": {},
   "source": [
    "Лучше будет взять 250 значений, так как покрывает достаточно большую часть слов, а разница между между 250 и 500 не настолько значительна, чтобы жертвовать производительностью"
   ]
  },
  {
   "cell_type": "code",
   "execution_count": 11,
   "id": "a2cb30cd",
   "metadata": {},
   "outputs": [],
   "source": [
    "# не будем брать слишком большой словарь, чтобы не делать слишком больших вычислений\n",
    "max_features = 10000\n",
    "sequence_length = 250"
   ]
  },
  {
   "cell_type": "code",
   "execution_count": 12,
   "id": "a13f8ca5",
   "metadata": {},
   "outputs": [],
   "source": [
    "# токенезируем предложения\n",
    "vectorize_layer = tensorflow.keras.layers.TextVectorization(\n",
    "                        standardize=custom_standardization,\n",
    "                        split='whitespace',\n",
    "                        max_tokens=max_features,\n",
    "                        output_mode='int',\n",
    "                        output_sequence_length=sequence_length,\n",
    "                        encoding='utf-8')\n",
    "vectorize_layer.adapt(data['comment_text'])"
   ]
  },
  {
   "cell_type": "markdown",
   "id": "412364fa",
   "metadata": {},
   "source": [
    "Разделим данные на тренировочные и тестовые"
   ]
  },
  {
   "cell_type": "code",
   "execution_count": 13,
   "id": "575f71be",
   "metadata": {},
   "outputs": [],
   "source": [
    "X = data[\"comment_text\"]\n",
    "Y = data[data.columns[2:-1]]\n",
    "\n",
    "X = np.array(vectorize_layer(X))\n",
    "\n",
    "X_train, X_test, y_train, y_test = train_test_split(X, Y, test_size=0.2)"
   ]
  },
  {
   "cell_type": "markdown",
   "id": "99e0f28e",
   "metadata": {},
   "source": [
    "Далее рассмотрим, какие модели можно применить для решения задачи.\n",
    "Для классификации текстов часто используют CNN, LSTM, GRU (в некоторых ситуациях работает лучше, чем LSTM). "
   ]
  },
  {
   "cell_type": "markdown",
   "id": "738a4d30",
   "metadata": {},
   "source": [
    "Хоть мы будем рассматривать разные модели, однако у каждой из них будет слой ембединга (для определения связи между словами)"
   ]
  },
  {
   "cell_type": "markdown",
   "id": "2b24b736",
   "metadata": {},
   "source": [
    "Начнем с CNN. такие сети содержат в себе несколько разных слоев. \n"
   ]
  },
  {
   "cell_type": "code",
   "execution_count": 14,
   "id": "1c0f659e",
   "metadata": {},
   "outputs": [],
   "source": [
    "embedding_dim = 9\n",
    "# экспериментальным путем было установлено, что значения 9 достаточно\n",
    "# например, при 16 не было значительного улучшения в точности, но было небольшое увеличение времени обучения\n",
    "# например, при 4 иногда начинала страдать точность модели"
   ]
  },
  {
   "cell_type": "code",
   "execution_count": 15,
   "id": "e7e843ad",
   "metadata": {},
   "outputs": [
    {
     "name": "stdout",
     "output_type": "stream",
     "text": [
      "Model: \"sequential\"\n",
      "_________________________________________________________________\n",
      " Layer (type)                Output Shape              Param #   \n",
      "=================================================================\n",
      " embedding (Embedding)       (None, None, 9)           90009     \n",
      "                                                                 \n",
      " global_average_pooling1d (G  (None, 9)                0         \n",
      " lobalAveragePooling1D)                                          \n",
      "                                                                 \n",
      " dense (Dense)               (None, 16)                160       \n",
      "                                                                 \n",
      " dense_1 (Dense)             (None, 6)                 102       \n",
      "                                                                 \n",
      "=================================================================\n",
      "Total params: 90,271\n",
      "Trainable params: 90,271\n",
      "Non-trainable params: 0\n",
      "_________________________________________________________________\n"
     ]
    }
   ],
   "source": [
    "cnn_model = Sequential()\n",
    "# сначала ембединг\n",
    "cnn_model.add(Embedding(max_features+1, embedding_dim))\n",
    "# далее уменьшим размерность\n",
    "cnn_model.add(GlobalAveragePooling1D())\n",
    "cnn_model.add(Dense(16, activation='relu'))\n",
    "# слой для вывода результата. сигмоида для того, чтобы попасть в рамки [0, 1]\n",
    "# в остальных моделях последним слоем также будет сигмоида\n",
    "cnn_model.add(Dense(6, activation='sigmoid'))\n",
    "\n",
    "cnn_model.compile(loss='binary_crossentropy',\n",
    "             optimizer='Adam',\n",
    "             metrics=['accuracy'])\n",
    "\n",
    "cnn_model.summary()"
   ]
  },
  {
   "cell_type": "code",
   "execution_count": 16,
   "id": "51f223f3",
   "metadata": {},
   "outputs": [
    {
     "name": "stdout",
     "output_type": "stream",
     "text": [
      "Epoch 1/5\n",
      "350/350 [==============================] - 4s 10ms/step - loss: 0.3219 - accuracy: 0.2005 - val_loss: 0.1383 - val_accuracy: 0.9951\n",
      "Epoch 2/5\n",
      "350/350 [==============================] - 4s 10ms/step - loss: 0.1378 - accuracy: 0.9951 - val_loss: 0.1330 - val_accuracy: 0.9951\n",
      "Epoch 3/5\n",
      "350/350 [==============================] - 4s 11ms/step - loss: 0.1328 - accuracy: 0.9950 - val_loss: 0.1269 - val_accuracy: 0.9952\n",
      "Epoch 4/5\n",
      "350/350 [==============================] - 4s 13ms/step - loss: 0.1245 - accuracy: 0.9951 - val_loss: 0.1174 - val_accuracy: 0.9952\n",
      "Epoch 5/5\n",
      "350/350 [==============================] - 4s 13ms/step - loss: 0.1120 - accuracy: 0.9951 - val_loss: 0.1052 - val_accuracy: 0.9952\n"
     ]
    }
   ],
   "source": [
    "cnn_epochs = 5\n",
    "# после 4-5 эпох точность не увеличивалась\n",
    "\n",
    "history = cnn_model.fit(X_train, y_train, epochs=cnn_epochs, batch_size=512, validation_data=(X_test, y_test))"
   ]
  },
  {
   "cell_type": "markdown",
   "id": "bc8ce48b",
   "metadata": {},
   "source": [
    "Возьмем некоторые показатели точности модели"
   ]
  },
  {
   "cell_type": "code",
   "execution_count": 17,
   "id": "6692e87e",
   "metadata": {},
   "outputs": [
    {
     "name": "stdout",
     "output_type": "stream",
     "text": [
      "1398/1398 [==============================] - 2s 1ms/step\n"
     ]
    },
    {
     "data": {
      "text/plain": [
       "{'loss': <tf.Tensor: shape=(), dtype=float32, numpy=0.10521577>,\n",
       " 'accuracy': <tf.Tensor: shape=(), dtype=float32, numpy=0.9951912>}"
      ]
     },
     "execution_count": 17,
     "metadata": {},
     "output_type": "execute_result"
    }
   ],
   "source": [
    "cnn_prediction = cnn_model.predict(X_test)\n",
    "cnn_model.get_metrics_result()"
   ]
  },
  {
   "cell_type": "markdown",
   "id": "c25d7cf8",
   "metadata": {},
   "source": [
    "Вывод по модели: она работает достаточно быстро (обучение одной эпохи занимает 5-7 секунд), обладает высокой точностью"
   ]
  },
  {
   "cell_type": "markdown",
   "id": "852da394",
   "metadata": {},
   "source": [
    "Далее будет LSTM "
   ]
  },
  {
   "cell_type": "code",
   "execution_count": 18,
   "id": "d3ffcc48",
   "metadata": {},
   "outputs": [
    {
     "name": "stdout",
     "output_type": "stream",
     "text": [
      "Model: \"sequential_1\"\n",
      "_________________________________________________________________\n",
      " Layer (type)                Output Shape              Param #   \n",
      "=================================================================\n",
      " embedding_1 (Embedding)     (None, None, 9)           90009     \n",
      "                                                                 \n",
      " lstm (LSTM)                 (None, 16)                1664      \n",
      "                                                                 \n",
      " dropout (Dropout)           (None, 16)                0         \n",
      "                                                                 \n",
      " dense_2 (Dense)             (None, 16)                272       \n",
      "                                                                 \n",
      " dense_3 (Dense)             (None, 6)                 102       \n",
      "                                                                 \n",
      "=================================================================\n",
      "Total params: 92,047\n",
      "Trainable params: 92,047\n",
      "Non-trainable params: 0\n",
      "_________________________________________________________________\n"
     ]
    }
   ],
   "source": [
    "lstm_epochs = 5\n",
    "# аналогично после 4-5 эпох особого прироста в точности не было\n",
    "\n",
    "lstm_model = Sequential()\n",
    "lstm_model.add(Embedding(max_features+1, embedding_dim))\n",
    "lstm_model.add(LSTM(16))\n",
    "lstm_model.add(Dropout(0.2))\n",
    "lstm_model.add(Dense(16, activation='relu'))\n",
    "lstm_model.add(Dense(6, activation='sigmoid'))\n",
    "\n",
    "lstm_model.compile(loss='binary_crossentropy',\n",
    "             optimizer='Adam',\n",
    "             metrics=['accuracy'])\n",
    "\n",
    "lstm_model.summary()"
   ]
  },
  {
   "cell_type": "code",
   "execution_count": 19,
   "id": "3da09f3f",
   "metadata": {},
   "outputs": [
    {
     "name": "stdout",
     "output_type": "stream",
     "text": [
      "Epoch 1/5\n",
      "350/350 [==============================] - 54s 147ms/step - loss: 0.2143 - accuracy: 0.6935 - val_loss: 0.1399 - val_accuracy: 0.9952\n",
      "Epoch 2/5\n",
      "350/350 [==============================] - 53s 151ms/step - loss: 0.1450 - accuracy: 0.9717 - val_loss: 0.1398 - val_accuracy: 0.9950\n",
      "Epoch 3/5\n",
      "350/350 [==============================] - 51s 145ms/step - loss: 0.1442 - accuracy: 0.9887 - val_loss: 0.1392 - val_accuracy: 0.9949\n",
      "Epoch 4/5\n",
      "350/350 [==============================] - 50s 142ms/step - loss: 0.1437 - accuracy: 0.9933 - val_loss: 0.1396 - val_accuracy: 0.9946\n",
      "Epoch 5/5\n",
      "350/350 [==============================] - 50s 142ms/step - loss: 0.1424 - accuracy: 0.9941 - val_loss: 0.1384 - val_accuracy: 0.9943\n"
     ]
    }
   ],
   "source": [
    "history = lstm_model.fit(X_train, y_train, epochs=lstm_epochs, batch_size=512, validation_data=(X_test, y_test))"
   ]
  },
  {
   "cell_type": "markdown",
   "id": "0860bf28",
   "metadata": {},
   "source": [
    "Возьмем некоторые показатели точности модели"
   ]
  },
  {
   "cell_type": "code",
   "execution_count": 20,
   "id": "0331b4ff",
   "metadata": {},
   "outputs": [
    {
     "name": "stdout",
     "output_type": "stream",
     "text": [
      "1398/1398 [==============================] - 20s 14ms/step\n"
     ]
    },
    {
     "data": {
      "text/plain": [
       "{'loss': <tf.Tensor: shape=(), dtype=float32, numpy=0.13835494>,\n",
       " 'accuracy': <tf.Tensor: shape=(), dtype=float32, numpy=0.99425185>}"
      ]
     },
     "execution_count": 20,
     "metadata": {},
     "output_type": "execute_result"
    }
   ],
   "source": [
    "lstm_prediction = lstm_model.predict(X_test)\n",
    "lstm_model.get_metrics_result()"
   ]
  },
  {
   "cell_type": "markdown",
   "id": "f4420755",
   "metadata": {},
   "source": [
    "Вывод по модели: LSTM работает намного медленнее CNN, при этом не обладая сильным преимуществом по точности"
   ]
  },
  {
   "cell_type": "markdown",
   "id": "ec5d8da7",
   "metadata": {},
   "source": [
    "Рассмотрим GRU"
   ]
  },
  {
   "cell_type": "code",
   "execution_count": 21,
   "id": "6cc36590",
   "metadata": {},
   "outputs": [
    {
     "name": "stdout",
     "output_type": "stream",
     "text": [
      "Model: \"sequential_2\"\n",
      "_________________________________________________________________\n",
      " Layer (type)                Output Shape              Param #   \n",
      "=================================================================\n",
      " embedding_2 (Embedding)     (None, None, 9)           90009     \n",
      "                                                                 \n",
      " gru (GRU)                   (None, 16)                1296      \n",
      "                                                                 \n",
      " dropout_1 (Dropout)         (None, 16)                0         \n",
      "                                                                 \n",
      " dense_4 (Dense)             (None, 16)                272       \n",
      "                                                                 \n",
      " dense_5 (Dense)             (None, 6)                 102       \n",
      "                                                                 \n",
      "=================================================================\n",
      "Total params: 91,679\n",
      "Trainable params: 91,679\n",
      "Non-trainable params: 0\n",
      "_________________________________________________________________\n"
     ]
    }
   ],
   "source": [
    "gru_epochs = 5\n",
    "# аналогично моделям выше\n",
    "\n",
    "gru_model = Sequential()\n",
    "gru_model.add(Embedding(max_features+1, embedding_dim))\n",
    "gru_model.add(GRU(16))\n",
    "gru_model.add(Dropout(0.2))\n",
    "gru_model.add(Dense(16, activation='relu'))\n",
    "gru_model.add(Dense(6, activation='sigmoid'))\n",
    "\n",
    "gru_model.compile(loss='binary_crossentropy',\n",
    "             optimizer='Adam',\n",
    "             metrics=['accuracy'])\n",
    "\n",
    "gru_model.summary()"
   ]
  },
  {
   "cell_type": "code",
   "execution_count": 22,
   "id": "8b49207b",
   "metadata": {},
   "outputs": [
    {
     "name": "stdout",
     "output_type": "stream",
     "text": [
      "Epoch 1/5\n",
      "350/350 [==============================] - 46s 126ms/step - loss: 0.2234 - accuracy: 0.8980 - val_loss: 0.1396 - val_accuracy: 0.9952\n",
      "Epoch 2/5\n",
      "350/350 [==============================] - 43s 123ms/step - loss: 0.1455 - accuracy: 0.9486 - val_loss: 0.1389 - val_accuracy: 0.9949\n",
      "Epoch 3/5\n",
      "350/350 [==============================] - 43s 122ms/step - loss: 0.1440 - accuracy: 0.9905 - val_loss: 0.1381 - val_accuracy: 0.9943\n",
      "Epoch 4/5\n",
      "350/350 [==============================] - 43s 122ms/step - loss: 0.1382 - accuracy: 0.9944 - val_loss: 0.0969 - val_accuracy: 0.9952\n",
      "Epoch 5/5\n",
      "350/350 [==============================] - 43s 123ms/step - loss: 0.0690 - accuracy: 0.9951 - val_loss: 0.0576 - val_accuracy: 0.9952\n"
     ]
    }
   ],
   "source": [
    "history = gru_model.fit(X_train, y_train, epochs=gru_epochs, batch_size=512, validation_data=(X_test, y_test))"
   ]
  },
  {
   "cell_type": "markdown",
   "id": "3cd7f826",
   "metadata": {},
   "source": [
    "Возьмем некоторые метрики"
   ]
  },
  {
   "cell_type": "code",
   "execution_count": 23,
   "id": "784ce755",
   "metadata": {},
   "outputs": [
    {
     "name": "stdout",
     "output_type": "stream",
     "text": [
      "1398/1398 [==============================] - 16s 11ms/step\n"
     ]
    },
    {
     "data": {
      "text/plain": [
       "{'loss': <tf.Tensor: shape=(), dtype=float32, numpy=0.057555176>,\n",
       " 'accuracy': <tf.Tensor: shape=(), dtype=float32, numpy=0.9951912>}"
      ]
     },
     "execution_count": 23,
     "metadata": {},
     "output_type": "execute_result"
    }
   ],
   "source": [
    "gru_prediction = gru_model.predict(X_test)\n",
    "gru_model.get_metrics_result()"
   ]
  },
  {
   "cell_type": "markdown",
   "id": "afddafd1",
   "metadata": {},
   "source": [
    "Вывод по модели: работает медленней, чем CNN, но быстрее чем LSTM, не обладает серьезным преимуществом в точности"
   ]
  }
 ],
 "metadata": {
  "kernelspec": {
   "display_name": "Python 3 (ipykernel)",
   "language": "python",
   "name": "python3"
  },
  "language_info": {
   "codemirror_mode": {
    "name": "ipython",
    "version": 3
   },
   "file_extension": ".py",
   "mimetype": "text/x-python",
   "name": "python",
   "nbconvert_exporter": "python",
   "pygments_lexer": "ipython3",
   "version": "3.10.6"
  }
 },
 "nbformat": 4,
 "nbformat_minor": 5
}
